{
 "cells": [
  {
   "cell_type": "markdown",
   "metadata": {},
   "source": [
    "# Building a job recommendation system with embeddings"
   ]
  },
  {
   "cell_type": "markdown",
   "metadata": {},
   "source": [
    "## Agenda\n",
    "\n",
    "1. Data exploration\n",
    "2. Data cleaning\n",
    "3. Embedddings generation\n",
    "4. Similarity search with Faiss\n",
    "5. Recommendations based on text"
   ]
  },
  {
   "cell_type": "markdown",
   "metadata": {},
   "source": [
    "## Import data"
   ]
  },
  {
   "cell_type": "code",
   "execution_count": 3,
   "metadata": {},
   "outputs": [],
   "source": [
    "import pandas as pd\n",
    "df_raw = pd.read_csv(\"data/monster_com-job_sample.csv\")\n",
    "df = df_raw[[\"job_title\", \"job_description\"]]"
   ]
  },
  {
   "cell_type": "code",
   "execution_count": 4,
   "metadata": {
    "scrolled": true
   },
   "outputs": [
    {
     "data": {
      "text/html": [
       "<div>\n",
       "<style scoped>\n",
       "    .dataframe tbody tr th:only-of-type {\n",
       "        vertical-align: middle;\n",
       "    }\n",
       "\n",
       "    .dataframe tbody tr th {\n",
       "        vertical-align: top;\n",
       "    }\n",
       "\n",
       "    .dataframe thead th {\n",
       "        text-align: right;\n",
       "    }\n",
       "</style>\n",
       "<table border=\"1\" class=\"dataframe\">\n",
       "  <thead>\n",
       "    <tr style=\"text-align: right;\">\n",
       "      <th></th>\n",
       "      <th>job_title</th>\n",
       "      <th>job_description</th>\n",
       "    </tr>\n",
       "  </thead>\n",
       "  <tbody>\n",
       "    <tr>\n",
       "      <th>0</th>\n",
       "      <td>IT Support Technician Job in Madison</td>\n",
       "      <td>TeamSoft is seeing an IT Support Specialist to...</td>\n",
       "    </tr>\n",
       "    <tr>\n",
       "      <th>1</th>\n",
       "      <td>Business Reporter/Editor Job in Madison</td>\n",
       "      <td>The Wisconsin State Journal is seeking a flexi...</td>\n",
       "    </tr>\n",
       "    <tr>\n",
       "      <th>2</th>\n",
       "      <td>Johnson &amp; Johnson Family of Companies Job Appl...</td>\n",
       "      <td>Report this job About the Job DePuy Synthes Co...</td>\n",
       "    </tr>\n",
       "    <tr>\n",
       "      <th>3</th>\n",
       "      <td>Engineer - Quality Job in Dixon</td>\n",
       "      <td>Why Join Altec? If you’re considering a career...</td>\n",
       "    </tr>\n",
       "    <tr>\n",
       "      <th>4</th>\n",
       "      <td>Shift Supervisor - Part-Time Job in Camphill</td>\n",
       "      <td>Position ID#  76162 # Positions  1 State  CT C...</td>\n",
       "    </tr>\n",
       "    <tr>\n",
       "      <th>...</th>\n",
       "      <td>...</td>\n",
       "      <td>...</td>\n",
       "    </tr>\n",
       "    <tr>\n",
       "      <th>21995</th>\n",
       "      <td>Assistant Vice President - Controller Job in C...</td>\n",
       "      <td>This is a major premier Cincinnati based finan...</td>\n",
       "    </tr>\n",
       "    <tr>\n",
       "      <th>21996</th>\n",
       "      <td>Accountant Job in Cincinnati</td>\n",
       "      <td>Luxury homebuilder in Cincinnati seeking multi...</td>\n",
       "    </tr>\n",
       "    <tr>\n",
       "      <th>21997</th>\n",
       "      <td>AEM/CQ developer Job in Chicago</td>\n",
       "      <td>RE: Adobe AEM-          Client -          Loca...</td>\n",
       "    </tr>\n",
       "    <tr>\n",
       "      <th>21998</th>\n",
       "      <td>Electrician - Experienced Forging Electrician ...</td>\n",
       "      <td>Jernberg Industries was established in 1937 an...</td>\n",
       "    </tr>\n",
       "    <tr>\n",
       "      <th>21999</th>\n",
       "      <td>Contract Administrator Job in Cincinnati</td>\n",
       "      <td>Contract AdministratorCan you be the point per...</td>\n",
       "    </tr>\n",
       "  </tbody>\n",
       "</table>\n",
       "<p>22000 rows × 2 columns</p>\n",
       "</div>"
      ],
      "text/plain": [
       "                                               job_title  \\\n",
       "0                   IT Support Technician Job in Madison   \n",
       "1                Business Reporter/Editor Job in Madison   \n",
       "2      Johnson & Johnson Family of Companies Job Appl...   \n",
       "3                        Engineer - Quality Job in Dixon   \n",
       "4           Shift Supervisor - Part-Time Job in Camphill   \n",
       "...                                                  ...   \n",
       "21995  Assistant Vice President - Controller Job in C...   \n",
       "21996                       Accountant Job in Cincinnati   \n",
       "21997                    AEM/CQ developer Job in Chicago   \n",
       "21998  Electrician - Experienced Forging Electrician ...   \n",
       "21999           Contract Administrator Job in Cincinnati   \n",
       "\n",
       "                                         job_description  \n",
       "0      TeamSoft is seeing an IT Support Specialist to...  \n",
       "1      The Wisconsin State Journal is seeking a flexi...  \n",
       "2      Report this job About the Job DePuy Synthes Co...  \n",
       "3      Why Join Altec? If you’re considering a career...  \n",
       "4      Position ID#  76162 # Positions  1 State  CT C...  \n",
       "...                                                  ...  \n",
       "21995  This is a major premier Cincinnati based finan...  \n",
       "21996  Luxury homebuilder in Cincinnati seeking multi...  \n",
       "21997  RE: Adobe AEM-          Client -          Loca...  \n",
       "21998  Jernberg Industries was established in 1937 an...  \n",
       "21999  Contract AdministratorCan you be the point per...  \n",
       "\n",
       "[22000 rows x 2 columns]"
      ]
     },
     "execution_count": 4,
     "metadata": {},
     "output_type": "execute_result"
    }
   ],
   "source": [
    "df"
   ]
  },
  {
   "cell_type": "markdown",
   "metadata": {},
   "source": [
    "## Dataframe exploration\n",
    "What can you find out about the data?\n",
    "(Null-values? Unique values?)"
   ]
  },
  {
   "cell_type": "code",
   "execution_count": 158,
   "metadata": {},
   "outputs": [],
   "source": [
    "# Your code here"
   ]
  },
  {
   "cell_type": "markdown",
   "metadata": {},
   "source": [
    "## Exploration and cleaning of the job title column"
   ]
  },
  {
   "cell_type": "markdown",
   "metadata": {},
   "source": [
    "### What are the most common job titles?\n",
    "Hint: https://pandas.pydata.org/pandas-docs/stable/reference/api/pandas.Series.value_counts.html"
   ]
  },
  {
   "cell_type": "code",
   "execution_count": 161,
   "metadata": {},
   "outputs": [],
   "source": [
    "# Your code here"
   ]
  },
  {
   "cell_type": "markdown",
   "metadata": {},
   "source": [
    "### Count the most occuring words in the job_title column\n",
    "Hint: https://docs.python.org/3/library/collections.html#collections.Counter.most_common"
   ]
  },
  {
   "cell_type": "code",
   "execution_count": 162,
   "metadata": {
    "scrolled": true
   },
   "outputs": [],
   "source": [
    "# Your code here"
   ]
  },
  {
   "cell_type": "markdown",
   "metadata": {},
   "source": [
    "### Further ideas for exploration?"
   ]
  },
  {
   "cell_type": "code",
   "execution_count": 1,
   "metadata": {},
   "outputs": [],
   "source": [
    "# Your code here"
   ]
  },
  {
   "cell_type": "markdown",
   "metadata": {},
   "source": [
    "### Clean job_title colum\n",
    "Ideas:\n",
    "- Remove jobs with Monster as title\n",
    "- Replace the jobtitle RN with Registered Nurse\n",
    "- Other? "
   ]
  },
  {
   "cell_type": "code",
   "execution_count": 163,
   "metadata": {
    "scrolled": true
   },
   "outputs": [],
   "source": [
    "# Your code here"
   ]
  },
  {
   "cell_type": "markdown",
   "metadata": {},
   "source": [
    "### Remove the unwanted words from Job_Title column\n",
    "Ideas: \n",
    "- Job\n",
    "- Monster.com\n",
    "- Other? "
   ]
  },
  {
   "cell_type": "code",
   "execution_count": 164,
   "metadata": {},
   "outputs": [],
   "source": [
    "# Your code here"
   ]
  },
  {
   "cell_type": "markdown",
   "metadata": {},
   "source": [
    "### Remove punctuation from job_title column"
   ]
  },
  {
   "cell_type": "code",
   "execution_count": 165,
   "metadata": {},
   "outputs": [],
   "source": [
    "# Your code here"
   ]
  },
  {
   "cell_type": "markdown",
   "metadata": {},
   "source": [
    "### Reset index of dataframe for later mapping"
   ]
  },
  {
   "cell_type": "code",
   "execution_count": 5,
   "metadata": {},
   "outputs": [],
   "source": [
    "df = df.reset_index()"
   ]
  },
  {
   "cell_type": "markdown",
   "metadata": {},
   "source": [
    "# Universal Sentence Encoder"
   ]
  },
  {
   "cell_type": "markdown",
   "metadata": {},
   "source": [
    "## Convert text into vectors with the  Universal Sentence Encoder"
   ]
  },
  {
   "cell_type": "code",
   "execution_count": null,
   "metadata": {},
   "outputs": [],
   "source": [
    "import tensorflow_hub as hub\n",
    "embed = hub.load(\"https://tfhub.dev/google/universal-sentence-encoder/4\")"
   ]
  },
  {
   "cell_type": "markdown",
   "metadata": {},
   "source": [
    "### Iterate over all job titles and create list of embeddings"
   ]
  },
  {
   "cell_type": "code",
   "execution_count": 167,
   "metadata": {},
   "outputs": [],
   "source": [
    "# Your code here\n",
    "embeddings = []"
   ]
  },
  {
   "cell_type": "code",
   "execution_count": 119,
   "metadata": {},
   "outputs": [
    {
     "name": "stdout",
     "output_type": "stream",
     "text": [
      "tf.Tensor(\n",
      "[[ 5.12974933e-02 -2.62291618e-02 -5.80487028e-02  3.83212324e-03\n",
      "  -2.07152050e-02 -2.42366288e-02  4.04173173e-02 -2.02521849e-02\n",
      "   7.80966729e-02 -6.32373169e-02  4.99930903e-02 -6.03389293e-02\n",
      "   1.89307407e-02 -2.51962114e-02  7.05621988e-02  1.12408854e-03\n",
      "  -5.51057700e-03  1.13684696e-03  5.51900007e-02 -7.56627768e-02\n",
      "   6.14884272e-02  1.87561079e-03  4.42417525e-02 -9.26249288e-03\n",
      "   2.25352366e-02  6.17091637e-03 -8.32106695e-02  2.31221989e-02\n",
      "  -3.00848093e-02 -2.78400760e-02 -7.13586956e-02  6.72420785e-02\n",
      "  -3.51649337e-02 -1.12884780e-02 -5.77206872e-02 -1.82857178e-02\n",
      "   6.03349246e-02  6.27986109e-03 -7.15801418e-02  5.21528944e-02\n",
      "   6.00093715e-02 -3.55952382e-02 -4.34854925e-02 -2.40718350e-02\n",
      "   6.70998096e-02 -1.11188032e-02  1.43688228e-02 -2.32283529e-02\n",
      "  -2.39834357e-02  1.82322576e-03 -7.39896521e-02  5.10589592e-02\n",
      "  -1.83551256e-02 -3.25675532e-02  7.37994611e-02 -4.33333591e-02\n",
      "   5.01952320e-02  5.51193431e-02 -6.14834614e-02  3.92861478e-03\n",
      "   7.91847613e-03 -3.11264582e-02 -5.90847097e-02  2.57840082e-02\n",
      "  -1.90874208e-02 -1.28187437e-03 -7.58501068e-02 -2.30177902e-02\n",
      "  -6.69720322e-02 -5.06318398e-02 -1.01562589e-04 -5.98549917e-02\n",
      "  -3.98227386e-02 -6.57672584e-02 -3.14925015e-02 -8.79421085e-02\n",
      "  -1.16821565e-03 -4.66505066e-02 -1.08956574e-02  2.67776400e-02\n",
      "  -9.87919234e-03  4.19840887e-02 -2.32748520e-02  3.49579379e-02\n",
      "  -5.84218651e-02  1.83037911e-02 -5.11173978e-02  1.06108207e-02\n",
      "   8.33440721e-02 -4.27956916e-02  7.98066799e-03  3.48531492e-02\n",
      "   4.26658839e-02  3.81308161e-02 -7.19420612e-02  5.39337508e-02\n",
      "  -6.22332171e-02 -1.71175474e-04 -3.87993231e-02 -6.94093034e-02\n",
      "   7.58046955e-02 -1.56725813e-02 -4.01356593e-02  4.30903248e-02\n",
      "  -7.62815103e-02 -6.80907667e-02  4.76033762e-02 -2.80783121e-02\n",
      "  -5.84710687e-02 -2.59968583e-02  4.21851203e-02  5.08144088e-02\n",
      "   6.72337115e-02 -5.48621863e-02 -1.28691494e-02 -6.90811872e-02\n",
      "   5.83140999e-02  1.52974147e-02  2.82762176e-03 -2.09590308e-02\n",
      "  -4.95849513e-02  6.12929203e-02  5.08531630e-02  5.35987467e-02\n",
      "   1.27716130e-03  3.93465310e-02 -5.28074354e-02 -7.05357001e-04\n",
      "  -6.44172803e-02  2.55542044e-02 -8.49252120e-02  5.31014195e-03\n",
      "   1.63921379e-02  3.88782397e-02  5.37752546e-02 -5.01576159e-03\n",
      "  -6.03794083e-02  2.76412759e-02 -5.49502149e-02 -3.87627892e-02\n",
      "  -4.78541851e-02 -3.82349305e-02  2.72799674e-02 -6.06110804e-02\n",
      "   6.85232878e-02  1.06506785e-02 -5.28983064e-02 -8.80903285e-03\n",
      "   3.41525711e-02 -1.91662330e-02  1.25612300e-02  3.79953533e-02\n",
      "  -6.44331872e-02 -2.16334015e-02 -2.61474513e-02 -1.55035425e-02\n",
      "   6.47438988e-02  3.69696580e-02  1.30015183e-02  3.89137678e-02\n",
      "  -4.25638482e-02  2.25929599e-02 -2.34437287e-02  2.28423788e-03\n",
      "  -4.03830335e-02  5.93326949e-02  2.34151874e-02  4.03996967e-02\n",
      "  -2.02289559e-02 -5.60163222e-02 -3.02295852e-02  1.50705725e-02\n",
      "  -1.96214654e-02 -8.16611852e-03  4.92464863e-02 -4.82789800e-02\n",
      "   5.69075271e-02 -6.76420480e-02 -1.22907795e-02  2.62295660e-02\n",
      "  -5.80716915e-02  2.47305706e-02  5.49887829e-02  5.17891794e-02\n",
      "   5.52444123e-02  5.16886078e-03 -8.49423856e-02  6.15875907e-02\n",
      "  -1.14689011e-03 -7.01657534e-02  2.28725132e-02 -7.89326504e-02\n",
      "  -3.99733931e-02  9.10233986e-03  1.76029056e-02  4.67804745e-02\n",
      "   4.01024707e-02  4.89881858e-02 -1.08031658e-02  2.10628472e-02\n",
      "  -3.20899896e-02  7.31749237e-02 -4.69559804e-02  1.42763713e-02\n",
      "  -1.73179656e-02  2.24824455e-02 -1.64010096e-02 -2.82599572e-02\n",
      "   7.72930682e-02  4.53240313e-02  2.14296933e-02  7.90934041e-02\n",
      "  -7.21606240e-02 -4.99438436e-04 -2.32941471e-02 -5.49884979e-03\n",
      "   2.01000758e-02  4.64409515e-02 -6.25155196e-02  3.57231982e-02\n",
      "   7.40811676e-02  3.05064097e-02 -6.55025477e-03  3.64688039e-02\n",
      "   4.22373526e-02 -4.01437515e-03 -2.18496881e-02 -2.10041814e-02\n",
      "   6.93847835e-02  3.42171080e-02 -4.61947620e-02 -3.89482155e-02\n",
      "  -2.09530275e-02  8.69887769e-02  2.07967162e-02  6.21575899e-02\n",
      "   4.62278016e-02  3.50978994e-03  2.94304471e-02  6.82510808e-02\n",
      "  -3.21558714e-02  1.56273209e-02  2.71943621e-02  2.28982083e-02\n",
      "   4.92360070e-02 -3.40545066e-02  3.04311067e-02  6.45878538e-02\n",
      "  -2.26457138e-02  7.72677213e-02 -8.73672888e-02  2.51798797e-02\n",
      "   4.58351485e-02  5.04703596e-02 -4.29918841e-02  3.57135348e-02\n",
      "   1.29684266e-02  1.45664327e-02  7.66337616e-03  4.22153622e-02\n",
      "  -4.14089449e-02 -2.81185508e-02  5.79496883e-02  6.88903332e-02\n",
      "   7.83290118e-02  7.21001104e-02  1.47188809e-02  6.15086481e-02\n",
      "   9.51782241e-03 -3.90241109e-02  1.01845087e-02 -3.43409404e-02\n",
      "   2.26745643e-02 -2.62908675e-02  6.59558317e-03 -5.08853309e-02\n",
      "   9.60751530e-03  4.36552428e-02  4.09401543e-02 -5.87392524e-02\n",
      "   4.31996062e-02 -2.10065786e-02 -3.79549228e-02  1.87233239e-02\n",
      "   2.22109631e-03 -2.25645620e-02  5.43800928e-02  5.25252745e-02\n",
      "  -2.08783243e-02 -2.89458279e-02 -3.74141186e-02 -6.09770566e-02\n",
      "   6.72067553e-02  5.95264845e-02  1.87889673e-02 -2.04135175e-03\n",
      "  -5.92239834e-02 -3.70082483e-02  7.64269521e-03  2.39935126e-02\n",
      "  -1.50857028e-02  3.88312824e-02  6.79534078e-02  1.87662523e-02\n",
      "  -5.88498749e-02 -4.90980446e-02  3.42163779e-02  6.38393536e-02\n",
      "  -5.21991029e-02  7.94447437e-02  8.38325731e-03 -7.41155371e-02\n",
      "   5.46970814e-02 -4.44268286e-02  6.24702238e-02  5.11029214e-02\n",
      "   6.37033731e-02 -4.89406753e-03 -6.56130761e-02 -1.22045688e-02\n",
      "   3.21614109e-02 -3.61969993e-02 -2.11519538e-03  1.59372538e-02\n",
      "  -5.00732511e-02  2.08622012e-02 -5.05282357e-02  6.10639863e-02\n",
      "   1.10776490e-02 -4.70423140e-03  6.65575713e-02  3.87709290e-02\n",
      "  -7.38091394e-02 -3.39412540e-02 -5.05245626e-02  7.91487321e-02\n",
      "  -2.08998751e-02  5.26966620e-03  6.45211861e-02 -6.16664253e-02\n",
      "  -6.40453547e-02  1.04166381e-02 -6.79596514e-02  3.01152728e-02\n",
      "   2.31528096e-02  6.44097552e-02  3.00743878e-02 -7.17026219e-02\n",
      "  -7.22164661e-02  3.21065746e-02  7.02057686e-03  3.12523842e-02\n",
      "   1.10640461e-02 -8.10200069e-03 -2.17914585e-05 -8.80508721e-02\n",
      "  -8.25003386e-02 -5.12673929e-02  8.17480218e-03 -6.19874559e-02\n",
      "  -5.38306683e-02 -2.37434711e-02  4.35520820e-02 -4.82986942e-02\n",
      "   1.73466336e-02  1.08019663e-02  5.92138171e-02 -5.85622452e-02\n",
      "  -4.25167978e-02  1.88041870e-02  9.57111921e-03  5.93963414e-02\n",
      "   7.54979104e-02 -7.89405033e-02 -1.89009439e-02 -5.19161522e-02\n",
      "   5.46314102e-03 -4.94623631e-02 -3.98971103e-02  7.13359099e-03\n",
      "  -3.06910425e-02 -3.07735074e-02 -2.47557815e-02  6.20158166e-02\n",
      "  -1.11916782e-02 -4.57335040e-02  4.46614958e-02 -4.27064970e-02\n",
      "   3.80796492e-02 -1.40230125e-02  2.07346920e-02  7.40385242e-03\n",
      "   3.88703533e-02 -1.31404595e-04  3.56813408e-02  3.48320566e-02\n",
      "  -2.16710437e-02  5.26103228e-02 -4.37804051e-02  6.46826178e-02\n",
      "  -5.46584651e-02 -5.20751663e-02  6.55261874e-02 -4.23197867e-03\n",
      "   2.03384110e-03 -4.60127881e-03 -4.98737544e-02 -5.32837324e-02\n",
      "   6.42178021e-03 -6.75971881e-02 -3.49842175e-03 -1.83799788e-02\n",
      "  -5.99552318e-02 -1.20534273e-02  5.15993573e-02  1.88263040e-02\n",
      "   6.08229302e-02  2.80335769e-02  6.01488492e-03  5.05067036e-02\n",
      "   7.36537799e-02 -8.16294476e-02 -1.36769041e-02 -3.22189778e-02\n",
      "   4.67553623e-02  2.82882079e-02  7.85365105e-02  3.92366387e-02\n",
      "  -1.97445648e-03 -5.22211753e-02 -4.88783941e-02 -1.75667778e-02\n",
      "   6.68876292e-03 -6.29144534e-02 -5.41818663e-02 -3.33491564e-02\n",
      "  -1.27926925e-02  3.72813456e-02 -6.12248741e-02  6.48086220e-02\n",
      "   1.94901004e-02 -7.66664222e-02 -7.53364041e-02 -4.94695967e-03\n",
      "   3.69812474e-02  3.50322016e-02  8.72076582e-03  1.93435866e-02\n",
      "  -7.83167630e-02  3.68748382e-02  1.81653816e-02 -6.08255900e-02\n",
      "   4.74814475e-02  5.06188124e-02  2.74776928e-02 -4.89413999e-02\n",
      "  -6.00795867e-03 -7.52979815e-02  2.18230393e-02  4.01993506e-02\n",
      "   6.76845340e-03  3.53748277e-02  7.57284090e-02 -6.83167577e-02\n",
      "   3.26722376e-02  5.80976084e-02 -5.79229090e-03  5.48365265e-02\n",
      "  -2.53118612e-02  2.48897146e-03 -2.07417682e-02  3.14191170e-02\n",
      "  -2.18452998e-02  6.83864132e-02 -6.57330602e-02  2.12763045e-02\n",
      "   2.41000615e-02 -5.62539957e-02 -3.06067569e-03  5.17970398e-02\n",
      "   2.03764681e-02 -9.30035301e-03 -4.35963757e-02  8.37857556e-03\n",
      "  -2.80214883e-02  5.03600165e-02  1.61913801e-02  1.86135918e-02\n",
      "   8.24750401e-03 -6.41951934e-02 -2.23041028e-02 -6.92127645e-03\n",
      "   3.49928960e-02 -4.71548066e-02  3.83274555e-02  7.39321485e-03\n",
      "   4.68427837e-02 -7.29061887e-02  2.19118763e-02  2.29290109e-02\n",
      "   7.57359201e-03 -4.94390428e-02 -4.81819594e-03 -5.36905266e-02\n",
      "   6.64032102e-02  3.62247154e-02  6.89221080e-03  4.97386269e-02\n",
      "  -1.42654860e-02 -4.59439941e-02 -3.80787961e-02  4.81784008e-02]], shape=(1, 512), dtype=float32)\n"
     ]
    }
   ],
   "source": [
    "print(embeddings[0])"
   ]
  },
  {
   "cell_type": "code",
   "execution_count": null,
   "metadata": {},
   "outputs": [],
   "source": [
    "import numpy as np\n",
    "np.shape(embeddings)"
   ]
  },
  {
   "cell_type": "code",
   "execution_count": 120,
   "metadata": {},
   "outputs": [],
   "source": [
    "from tqdm.notebook import tqdm\n",
    "embeddings_array = [item.numpy() for item in tqdm(embeddings)]"
   ]
  },
  {
   "cell_type": "markdown",
   "metadata": {},
   "source": [
    "## Building an approximate similarity matching index with Faiss\n",
    "Faiss is a library for efficient similarity search and clustering of dense vectors. It contains algorithms that search in sets of vectors of any size, up to ones that possibly do not fit in RAM.    \n",
    "https://github.com/facebookresearch/faiss"
   ]
  },
  {
   "cell_type": "markdown",
   "metadata": {},
   "source": [
    "### Import faiss and create an index with our embeddings"
   ]
  },
  {
   "cell_type": "code",
   "execution_count": 121,
   "metadata": {},
   "outputs": [],
   "source": [
    "import faiss\n",
    "import numpy as np\n",
    "dimensions = len(embeddings_array[0])\n",
    "faiss_index = faiss.IndexFlatL2(dimensions)\n",
    "faiss_index.add(np.array(embeddings_array))"
   ]
  },
  {
   "cell_type": "markdown",
   "metadata": {},
   "source": [
    "### Search for nearest neighbour in faiss\n",
    "Write code that takes a text, transform it into a vector and get similar vectors from faiss_index    \n",
    "Hint search in index: https://github.com/facebookresearch/faiss/wiki/Getting-started"
   ]
  },
  {
   "cell_type": "code",
   "execution_count": 168,
   "metadata": {},
   "outputs": [],
   "source": [
    "# Your code here"
   ]
  },
  {
   "cell_type": "markdown",
   "metadata": {},
   "source": [
    "### Create mapping between index in faiss and index in our dataframe\n",
    "\n",
    "The search operation returns the ids (row numbers or index in the vector store) of the k most similar vectors for each query vector along with their respective distances. That is why we need a mapping from index in the search to the index in the dataframe."
   ]
  },
  {
   "cell_type": "code",
   "execution_count": 169,
   "metadata": {},
   "outputs": [],
   "source": [
    "# Your code here"
   ]
  },
  {
   "cell_type": "markdown",
   "metadata": {},
   "source": [
    "### Write function that uses mapping and faiss.search to return similar job titles to an input text"
   ]
  },
  {
   "cell_type": "code",
   "execution_count": 6,
   "metadata": {},
   "outputs": [],
   "source": [
    "def get_most_similar_jobs(text: str, num_recos: int = 5) -> pd.DataFrame:\n",
    "    # Your code here\n",
    "    pass\n"
   ]
  },
  {
   "cell_type": "code",
   "execution_count": 129,
   "metadata": {},
   "outputs": [
    {
     "data": {
      "text/plain": [
       "['Writer Aspiring to have a career in the field of law',\n",
       " 'Marketing Coordinator Great Pay up to K',\n",
       " 'Want Growth AND Fun Entry Level Sales Marketing Paid Training',\n",
       " 'General Laborer Needed for a Great Company',\n",
       " 'Tax Season Help']"
      ]
     },
     "execution_count": 129,
     "metadata": {},
     "output_type": "execute_result"
    }
   ],
   "source": [
    "get_most_similar_jobs(\"I want to make lots of money\")"
   ]
  }
 ],
 "metadata": {
  "kernelspec": {
   "display_name": "Python 3",
   "language": "python",
   "name": "python3"
  },
  "language_info": {
   "codemirror_mode": {
    "name": "ipython",
    "version": 3
   },
   "file_extension": ".py",
   "mimetype": "text/x-python",
   "name": "python",
   "nbconvert_exporter": "python",
   "pygments_lexer": "ipython3",
   "version": "3.7.4"
  }
 },
 "nbformat": 4,
 "nbformat_minor": 4
}
